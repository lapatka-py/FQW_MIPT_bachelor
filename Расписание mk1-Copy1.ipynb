{
 "cells": [
  {
   "cell_type": "code",
   "execution_count": 1,
   "id": "d5de68b3",
   "metadata": {},
   "outputs": [
    {
     "name": "stdout",
     "output_type": "stream",
     "text": [
      "far route\n"
     ]
    }
   ],
   "source": [
    "import datetime as dt\n",
    "import json\n",
    "import scipy as sp\n",
    "from tqdm import tqdm\n",
    "# from functions import bfs, find_closest_nodes, find_route, get_distance, get_way\n",
    "import seaborn as sns\n",
    "import numpy as np\n",
    "import pandas as pd\n",
    "import matplotlib.pyplot as plt\n",
    "pd.set_option('display.max_columns', 500)"
   ]
  },
  {
   "cell_type": "code",
   "execution_count": 2,
   "id": "b8a2dcc6",
   "metadata": {},
   "outputs": [],
   "source": [
    "json_file_path = r\"data/ways_with_points_cleared_5m_v2.json\"\n",
    "with open(json_file_path, 'r') as j:\n",
    "    ways_with_points = json.loads(j.read())\n",
    "    \n",
    "json_file_path = r\"data/way_with_neighbours.json\"\n",
    "with open(json_file_path, 'r') as j:\n",
    "    ways_with_neighbours = json.loads(j.read())   \n",
    "    \n",
    "json_file_path = r\"data/points_with_ways_new.json\"\n",
    "with open(json_file_path, 'r') as j:\n",
    "    points_with_ways = json.loads(j.read())  "
   ]
  },
  {
   "cell_type": "code",
   "execution_count": 3,
   "id": "3b4ee994",
   "metadata": {},
   "outputs": [
    {
     "name": "stdout",
     "output_type": "stream",
     "text": [
      "CPU times: total: 2.27 s\n",
      "Wall time: 2.27 s\n"
     ]
    }
   ],
   "source": [
    "%%time\n",
    "ways = np.array([int(i) for i in list(ways_with_neighbours.keys())])\n",
    "lat = np.array([float(i.split(', ')[0]) for i in list(points_with_ways.keys())])\n",
    "lon = np.array([float(i.split(', ')[1]) for i in list(points_with_ways.keys())])\n",
    "point_names = list(points_with_ways.keys())\n",
    "coordinates = np.vstack((lat, lon)).T#.shape"
   ]
  },
  {
   "cell_type": "code",
   "execution_count": null,
   "id": "7521b112",
   "metadata": {},
   "outputs": [],
   "source": [
    "for i, row in tqdm(speeds.iterrows(), total=len(speeds)):\n",
    "    \n",
    "    flag = True\n",
    "    \n",
    "    if ( row.interval in avspeeds.keys() ) or ( (row.interval[1], row.interval[0]) in avspeeds.keys() ):\n",
    "\n",
    "        avspeeds[esr].append(row.speed)\n",
    "        flag = False\n",
    "        break\n",
    "    \n",
    "    if flag:\n",
    "        \n",
    "        avspeeds[row.interval] = [row.speed]\n",
    "            "
   ]
  },
  {
   "cell_type": "code",
   "execution_count": 4,
   "id": "90f6c219",
   "metadata": {},
   "outputs": [],
   "source": [
    "msgs_raw = pd.read_parquet('data_prod_park2.parquet')\n",
    "\n",
    "msgs_raw = msgs_raw.sort_values(by='getdata').reset_index(drop=True)[1:]\n",
    "msgs_raw = msgs_raw[msgs_raw.latitude > 10]\n",
    "\n",
    "msgs_raw = msgs_raw[(msgs_raw['longitude'] < 64.2) & (msgs_raw['longitude'] > 53.5)]\n",
    "msgs = msgs_raw[(msgs_raw['latitude'] > 62)].reset_index(drop=True)\n",
    "\n",
    "esr_coord = pd.read_csv('to_docker/ESR_coordinates_1506_12_utf8.csv', sep=';')\n",
    "\n",
    "esr_coord = esr_coord[(esr_coord['longitude'] < 64.2) & (esr_coord['longitude'] > 53.5)]\n",
    "stations = esr_coord[(esr_coord['latitude'] > 62)].reset_index(drop=True)"
   ]
  },
  {
   "cell_type": "code",
   "execution_count": 5,
   "id": "b2454298",
   "metadata": {},
   "outputs": [],
   "source": [
    "data3 = msgs[msgs.id_dev_ut == 'dwtest27'].sort_values(by='last_time').reset_index(drop=True)\n",
    "\n",
    "data3['forward_lt'] = data3.last_time - data3.last_time.shift(1)\n",
    "data3['backward_lt'] = data3.last_time.shift(-1) - data3.last_time\n",
    "\n",
    "data3['filtered'] = ((data3.forward_lt > 1180) & (data3.forward_lt < 1220) \n",
    "& (data3.backward_lt > 1180) & (data3.backward_lt < 1220))\n",
    "\n",
    "sum(data3.filtered) / len(data3.filtered)\n",
    "\n",
    "data3.filtered\n",
    "data3['data_norm'] = pd.to_datetime(data3.last_time, unit='s')"
   ]
  },
  {
   "cell_type": "code",
   "execution_count": 6,
   "id": "9afeccb6",
   "metadata": {},
   "outputs": [],
   "source": [
    "data3 = msgs.sort_values(by='last_time').reset_index(drop=True)\n",
    "data3['data_norm'] = pd.to_datetime(data3.last_time, unit='s')\n",
    "data3 = data3[data3.data_norm > pd.to_datetime('2023-nov-01 00:00:00')]"
   ]
  },
  {
   "cell_type": "code",
   "execution_count": 9,
   "id": "d50d9f11",
   "metadata": {},
   "outputs": [
    {
     "name": "stdout",
     "output_type": "stream",
     "text": [
      "far route\n"
     ]
    }
   ],
   "source": [
    "start_point = np.array((63.428844, 53.607670))\n",
    "end_point = np.array((67.470200, 64.026861))\n",
    "nodes, _ = get_way(start_point,end_point)"
   ]
  },
  {
   "cell_type": "code",
   "execution_count": null,
   "id": "55c7cc3f",
   "metadata": {},
   "outputs": [],
   "source": []
  },
  {
   "cell_type": "code",
   "execution_count": null,
   "id": "a2ebc073",
   "metadata": {},
   "outputs": [],
   "source": []
  },
  {
   "cell_type": "code",
   "execution_count": null,
   "id": "00a00de9",
   "metadata": {},
   "outputs": [],
   "source": []
  },
  {
   "cell_type": "code",
   "execution_count": null,
   "id": "fd08687f",
   "metadata": {},
   "outputs": [],
   "source": []
  },
  {
   "cell_type": "code",
   "execution_count": null,
   "id": "6db9947e",
   "metadata": {},
   "outputs": [],
   "source": []
  },
  {
   "cell_type": "code",
   "execution_count": null,
   "id": "a1c3f061",
   "metadata": {},
   "outputs": [],
   "source": []
  },
  {
   "cell_type": "code",
   "execution_count": null,
   "id": "18c6f566",
   "metadata": {},
   "outputs": [],
   "source": []
  },
  {
   "cell_type": "code",
   "execution_count": null,
   "id": "fde47f53",
   "metadata": {},
   "outputs": [],
   "source": []
  }
 ],
 "metadata": {
  "kernelspec": {
   "display_name": "Python 3 (ipykernel)",
   "language": "python",
   "name": "python3"
  },
  "language_info": {
   "codemirror_mode": {
    "name": "ipython",
    "version": 3
   },
   "file_extension": ".py",
   "mimetype": "text/x-python",
   "name": "python",
   "nbconvert_exporter": "python",
   "pygments_lexer": "ipython3",
   "version": "3.9.9"
  }
 },
 "nbformat": 4,
 "nbformat_minor": 5
}
